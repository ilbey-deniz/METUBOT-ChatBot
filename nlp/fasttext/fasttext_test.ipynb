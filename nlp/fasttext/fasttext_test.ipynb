{
 "cells": [
  {
   "cell_type": "code",
   "execution_count": 5,
   "metadata": {},
   "outputs": [],
   "source": [
    "import fasttext\n",
    "import fasttext.util\n",
    "# fasttext.util.download_model('tr', if_exists='ignore')\n",
    "#test"
   ]
  },
  {
   "cell_type": "code",
   "execution_count": 6,
   "metadata": {},
   "outputs": [],
   "source": [
    "from numpy import dot\n",
    "from numpy.linalg import norm\n",
    "from scipy import spatial\n",
    "\n",
    "def spatialDistance(vector1, vector2):\n",
    "    return spatial.distance.euclidean(vector1, vector2)"
   ]
  },
  {
   "cell_type": "code",
   "execution_count": 7,
   "metadata": {},
   "outputs": [],
   "source": [
    "ft = fasttext.load_model(r'cc.tr.300.bin')"
   ]
  },
  {
   "cell_type": "code",
   "execution_count": 8,
   "metadata": {},
   "outputs": [],
   "source": [
    "questions = {\n",
    "    \"sifre\":[\n",
    "        \"öğrenci şifremi unuttum, nasıl yenileyebilirim?\",\n",
    "        \"ODTU kullanıcı şifremi hatırlamıyorum, ne yapmam lazım?\",\n",
    "        \"metu mail şifremi kaybettim, nasıl sıfırlarım?\",\n",
    "        \"parolamı unuttum\",\n",
    "        \"metumail şifrem neydi\"\n",
    "        ],\n",
    "    \"lisanslı yazılımlar\": [\n",
    "        \"Microsoft Office'i öğrenci mailimle nasıl kullanabilirim?\",\n",
    "        \"ücretsiz Autocad kullanmak için ne yapmam lazım\",\n",
    "        \"exceli metu mailimle nasıl kullanabilirim?\"\n",
    "        ],\n",
    "    \"wifi\":[\n",
    "        \"meturoam a nasıl bağlanabilirim\",\n",
    "        \"odtu wifi nasıl bağlanırım\",\n",
    "        \"hangi wifi a bağlanmam gerek\",\n",
    "        \"eduroam şifresi neydi\"\n",
    "    ]\n",
    "}\n"
   ]
  },
  {
   "cell_type": "code",
   "execution_count": 9,
   "metadata": {},
   "outputs": [],
   "source": [
    "question_vectors = {}\n",
    "for key in questions:\n",
    "    question_vectors[key] = []\n",
    "    for q in questions[key]:\n",
    "        question_vectors[key].append(ft.get_sentence_vector(q))"
   ]
  },
  {
   "cell_type": "code",
   "execution_count": 12,
   "metadata": {},
   "outputs": [
    {
     "name": "stdout",
     "output_type": "stream",
     "text": [
      "Soru kategorisi: lisanslı yazılımlar\n",
      "En yakın soru: ücretsiz Autocad kullanmak için ne yapmam lazım\n"
     ]
    }
   ],
   "source": [
    "while True:\n",
    "    user_question = input(\"Nasıl yardımcı olabilirim?\")\n",
    "    q_vector = ft.get_sentence_vector(user_question)\n",
    "\n",
    "    most_similar_question = \"\"\n",
    "    most_similar_category = \"\"\n",
    "\n",
    "    max_similarity = 0\n",
    "    category_max_similarity = 0\n",
    "\n",
    "    for key in question_vectors:\n",
    "        for vector, question in zip(question_vectors[key], questions[key]):\n",
    "            sim = dot(q_vector, vector)/(norm(q_vector)*norm(vector))\n",
    "            if sim > max_similarity:\n",
    "                max_similarity = sim\n",
    "                most_similar_question = question\n",
    "                most_similar_category = key\n",
    "    \n",
    "    print(\"Soru kategorisi: %s\" % most_similar_category) \n",
    "    print(\"En yakın soru: %s\" % most_similar_question)"
   ]
  }
 ],
 "metadata": {
  "kernelspec": {
   "display_name": "Python 3.9.10 64-bit",
   "language": "python",
   "name": "python3"
  },
  "language_info": {
   "codemirror_mode": {
    "name": "ipython",
    "version": 3
   },
   "file_extension": ".py",
   "mimetype": "text/x-python",
   "name": "python",
   "nbconvert_exporter": "python",
   "pygments_lexer": "ipython3",
   "version": "3.9.10"
  },
  "orig_nbformat": 4,
  "vscode": {
   "interpreter": {
    "hash": "b0fa6594d8f4cbf19f97940f81e996739fb7646882a419484c72d19e05852a7e"
   }
  }
 },
 "nbformat": 4,
 "nbformat_minor": 2
}
